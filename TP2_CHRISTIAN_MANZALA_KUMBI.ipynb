{
  "cells": [
    {
      "cell_type": "markdown",
      "metadata": {
        "id": "view-in-github",
        "colab_type": "text"
      },
      "source": [
        "<a href=\"https://colab.research.google.com/github/chrismanzala/rproject/blob/Python-development/TP2_CHRISTIAN_MANZALA_KUMBI.ipynb\" target=\"_parent\"><img src=\"https://colab.research.google.com/assets/colab-badge.svg\" alt=\"Open In Colab\"/></a>"
      ]
    },
    {
      "cell_type": "markdown",
      "source": [
        "# $$\\textbf{TP2 Optimisation}$$"
      ],
      "metadata": {
        "id": "5h-TWIHLJwSy"
      }
    },
    {
      "cell_type": "markdown",
      "metadata": {
        "id": "e-CojFvsIwUt"
      },
      "source": [
        "# Exercice 1 \n"
      ]
    },
    {
      "cell_type": "code",
      "execution_count": 336,
      "metadata": {
        "id": "GZsIt8GNKSGH"
      },
      "outputs": [],
      "source": [
        "import numpy as np \n",
        "import matplotlib.pyplot as plt"
      ]
    },
    {
      "cell_type": "code",
      "execution_count": 349,
      "metadata": {
        "id": "hZHAwZgtJFnM"
      },
      "outputs": [],
      "source": [
        "#parametres du modele\n",
        "p = 1000  #nombre de parametres de regression\n",
        "n = p * 10  #nombre d'observations.\n",
        "\n",
        "# Simulation d'un modèle linéaire. \n",
        "# Matrice de design\n",
        "X = np.concatenate((np.ones((n, 1)), np.random.normal(0, 1, size=(n, p))), \n",
        "                   axis=1)\n",
        "# Vecteur de paramètres.\n",
        "th = np.arange(1, p+2).reshape(-1, 1)"
      ]
    },
    {
      "cell_type": "code",
      "source": [
        "# Résidus.\n",
        "e = np.random.normal(0,1, size = (n, 1))\n",
        "# Observations.\n",
        "Y = np.dot(X, th) + e "
      ],
      "metadata": {
        "id": "WRFx4Tuquljt"
      },
      "execution_count": 350,
      "outputs": []
    },
    {
      "cell_type": "markdown",
      "source": [
        "2. Calculer l’erreur quadratique moyenne "
      ],
      "metadata": {
        "id": "-k_rC5nt33jQ"
      }
    },
    {
      "cell_type": "markdown",
      "source": [
        "$\\mathrm J({\\hat{\\theta}}) = \\frac{1}{n}|Y - X {\\theta}|_2^2$"
      ],
      "metadata": {
        "id": "1u4DadddGKIn"
      }
    },
    {
      "cell_type": "code",
      "source": [
        " J_th = np.sum((Y - np.dot(X,th))**2)/n\n",
        "\n",
        " print(J_th)"
      ],
      "metadata": {
        "colab": {
          "base_uri": "https://localhost:8080/",
          "height": 0
        },
        "id": "pcXHjE0z0iRe",
        "outputId": "a96aa2c3-9928-4092-b0fa-ddb3adc89d31"
      },
      "execution_count": 339,
      "outputs": [
        {
          "output_type": "stream",
          "name": "stdout",
          "text": [
            "1.0006083189478943\n"
          ]
        }
      ]
    },
    {
      "cell_type": "markdown",
      "source": [
        "3. A l’aide de la commande , résoudre le système linéaire "
      ],
      "metadata": {
        "id": "6N9tlfog6J0-"
      }
    },
    {
      "cell_type": "markdown",
      "source": [
        "$\\mathrm{\\hat{\\theta}} = ({X}^{T}X)^{-1}X^{T}Y$"
      ],
      "metadata": {
        "id": "BI23gdteD1XY"
      }
    },
    {
      "cell_type": "code",
      "source": [
        "th_chapeau = np.linalg.inv(X.T.dot(X)).dot(X.T).dot(Y)\n",
        "\n",
        "print(th_chapeau)"
      ],
      "metadata": {
        "id": "yARJuiR14JQc",
        "colab": {
          "base_uri": "https://localhost:8080/",
          "height": 0
        },
        "outputId": "9c48fe9f-3732-4103-9014-c29e12f0707a"
      },
      "execution_count": 340,
      "outputs": [
        {
          "output_type": "stream",
          "name": "stdout",
          "text": [
            "[[   1.00389061]\n",
            " [   1.99274253]\n",
            " [   2.98783376]\n",
            " ...\n",
            " [ 999.00003525]\n",
            " [ 999.9978462 ]\n",
            " [1001.00491369]]\n"
          ]
        }
      ]
    },
    {
      "cell_type": "markdown",
      "source": [
        "4. Calculer le temps d’exécution de cette fonction"
      ],
      "metadata": {
        "id": "8rK-4o_qAiVn"
      }
    },
    {
      "cell_type": "code",
      "source": [
        "import datetime as dt \n",
        "\n",
        "debut = dt.datetime.now()\n",
        "\n",
        "th_chapeau\n",
        "\n",
        "fin = dt.datetime.now()\n",
        "\n",
        "temps = (fin - debut).total_seconds()\n",
        "\n",
        "print(f\"temps d'exécution:{temps} secondes\")\n"
      ],
      "metadata": {
        "id": "1fA1mhTpAXpC",
        "colab": {
          "base_uri": "https://localhost:8080/",
          "height": 0
        },
        "outputId": "bbb327f0-d0f4-4a1c-f40c-f58cd5ad3d8c"
      },
      "execution_count": 341,
      "outputs": [
        {
          "output_type": "stream",
          "name": "stdout",
          "text": [
            "temps d'exécution:8.1e-05 secondes\n"
          ]
        }
      ]
    },
    {
      "cell_type": "markdown",
      "source": [
        "5. Calculer $\\mathrm {J}({\\hat{\\theta}})$ et l’erreur d’estimation $\\mathrm{E}({\\hat{\\theta}})$"
      ],
      "metadata": {
        "id": "euhB2h_1AloF"
      }
    },
    {
      "cell_type": "code",
      "source": [
        "#Fonctionelle quadratique estimée\n",
        "\n",
        "J_th_chapeau = np.sum((Y - np.dot(X,th_chapeau))**2)/n \n",
        "\n",
        "print(J_th_chapeau)"
      ],
      "metadata": {
        "colab": {
          "base_uri": "https://localhost:8080/",
          "height": 0
        },
        "id": "cHsW04x0bkqu",
        "outputId": "8a8d805d-42ce-4557-b422-43487353c929"
      },
      "execution_count": 342,
      "outputs": [
        {
          "output_type": "stream",
          "name": "stdout",
          "text": [
            "0.9046745407561775\n"
          ]
        }
      ]
    },
    {
      "cell_type": "code",
      "source": [
        "Erreur =np.abs(th_chapeau - th).sum() #Erreur d'estimation\n",
        " \n",
        "print(Erreur)"
      ],
      "metadata": {
        "colab": {
          "base_uri": "https://localhost:8080/",
          "height": 0
        },
        "id": "0ExIcCRGb3iK",
        "outputId": "3bef9203-06dc-4ff3-a6a1-37aabd6b7a6c"
      },
      "execution_count": 351,
      "outputs": [
        {
          "output_type": "stream",
          "name": "stdout",
          "text": [
            "8.279151072905549\n"
          ]
        }
      ]
    },
    {
      "cell_type": "markdown",
      "source": [
        "#Exercice 2 "
      ],
      "metadata": {
        "id": "nR5-W3QUBHRf"
      }
    },
    {
      "cell_type": "markdown",
      "source": [
        "Définition des fonctions"
      ],
      "metadata": {
        "id": "Bl1qhDYVBLL1"
      }
    },
    {
      "cell_type": "code",
      "source": [
        "# La fonctionelle quadratique à optimiser \n",
        "def J_th(X, th, Y, n):\n",
        "    return ((Y - np.dot(X,th))**2).sum()/n\n",
        "\n",
        "\n",
        "# Le gradient de la fonction\n",
        "def grad_J(X, th, Y):\n",
        "    return np.dot(X.T,(np.dot(X,th) - Y))"
      ],
      "metadata": {
        "id": "2Y6lZRFx-5Cq"
      },
      "execution_count": 344,
      "outputs": []
    },
    {
      "cell_type": "markdown",
      "source": [
        "Initialisation"
      ],
      "metadata": {
        "id": "ZySRJg9Jgwto"
      }
    },
    {
      "cell_type": "code",
      "source": [
        "X = np.concatenate((np.ones((n, 1)), np.random.normal(0, 1, size=(n, p))), \n",
        "                   axis=1)\n",
        "\n",
        "A = X.T.dot(X)\n",
        "\n",
        "th = np.random.randn(1001,1)\n",
        "\n",
        "e = np.random.normal(0,1, size = (n, 1))\n",
        "\n",
        "Y = np.dot(X, th) + e \n",
        "\n",
        "F = J_th(X,th,Y,n)"
      ],
      "metadata": {
        "id": "DiNMaBiRg2en"
      },
      "execution_count": 345,
      "outputs": []
    },
    {
      "cell_type": "markdown",
      "source": [
        "$$\\text{Descente de gradient à pas fixe}$$"
      ],
      "metadata": {
        "id": "eurAv4m_gtIJ"
      }
    },
    {
      "cell_type": "markdown",
      "source": [
        "$\\mathrm ∇J(\\hat{\\theta}) = X^T(X{\\theta}-Y)$"
      ],
      "metadata": {
        "id": "jVQtF5nkM9gA"
      }
    },
    {
      "cell_type": "markdown",
      "source": [
        "###### $$\\textit{Mise en oeuvre de l'algorithme}$$"
      ],
      "metadata": {
        "id": "RaSEbvtTBT1S"
      }
    },
    {
      "cell_type": "code",
      "source": [
        "debut = dt.datetime.now() # temps d'exécution\n",
        "\n",
        "# Le nombre maximal d'itérations à effectuer\n",
        "num_iterations = 100\n",
        "\n",
        "# La précision à atteindre\n",
        "tolerance = 0.01\n",
        "\n",
        "# Le pas initial\n",
        "eta = 0.0001\n",
        "\n",
        "# La descente de gradient avec un pas fixe\n",
        "for iteration in range(2,num_iterations):\n",
        "\n",
        "    # Gradient de la fonction au point actuel\n",
        "    d = grad_J(X,th,Y)\n",
        "    \n",
        "    if np.abs(d).sum() < tolerance:\n",
        "      break\n",
        "    else:\n",
        "      th = th - (eta*d) # Mise à jour the theta\n",
        "\n",
        "      F = J_th(X,th,Y,n) # Minimisation de la fonctionnelle quadratique\n",
        "      \n",
        "      plt.plot(iteration, F,'b.', label = 'F')\n",
        "      plt.title(\"Evolution de la fonctionnelle quadratique\")\n",
        "      \n",
        "    # Le point actuel \n",
        "    print(f\"Itération {iteration} F = {F}\")\n",
        "    \n",
        "\n",
        "fin = dt.datetime.now()\n",
        "\n",
        "temps = (fin - debut).total_seconds() # temps total \n",
        "\n",
        "print(\"\\n \\n temps d'éxécution:\", temps, \":secondes \\n \\n\")\n"
      ],
      "metadata": {
        "id": "d62qc-82-0o6",
        "colab": {
          "base_uri": "https://localhost:8080/",
          "height": 1249
        },
        "outputId": "63422bb0-2da0-46da-efbc-00e3144d4cb8"
      },
      "execution_count": 346,
      "outputs": [
        {
          "output_type": "stream",
          "name": "stdout",
          "text": [
            "Itération 2 F = 0.8899353394386776\n",
            "Itération 3 F = 0.8818948625291887\n",
            "Itération 4 F = 0.8803853389766818\n",
            "Itération 5 F = 0.8799955275805478\n",
            "Itération 6 F = 0.8798735016144241\n",
            "Itération 7 F = 0.8798302052528545\n",
            "Itération 8 F = 0.8798135135674167\n",
            "Itération 9 F = 0.8798067069776145\n",
            "Itération 10 F = 0.8798038201780307\n",
            "Itération 11 F = 0.879802560230791\n",
            "Itération 12 F = 0.8798019981891463\n",
            "Itération 13 F = 0.8798017431065877\n",
            "Itération 14 F = 0.8798016256972907\n",
            "Itération 15 F = 0.8798015710183572\n",
            "Itération 16 F = 0.8798015452989215\n",
            "Itération 17 F = 0.8798015330972848\n",
            "Itération 18 F = 0.8798015272655675\n",
            "Itération 19 F = 0.8798015244602091\n",
            "Itération 20 F = 0.8798015231029902\n",
            "Itération 21 F = 0.8798015224430746\n",
            "Itération 22 F = 0.8798015221207804\n",
            "Itération 23 F = 0.8798015219627545\n",
            "Itération 24 F = 0.8798015218850002\n",
            "Itération 25 F = 0.8798015218466227\n",
            "Itération 26 F = 0.8798015218276279\n",
            "Itération 27 F = 0.8798015218182021\n",
            "Itération 28 F = 0.879801521813514\n",
            "Itération 29 F = 0.8798015218111784\n",
            "Itération 30 F = 0.8798015218100121\n",
            "Itération 31 F = 0.8798015218094289\n",
            "Itération 32 F = 0.8798015218091375\n",
            "Itération 33 F = 0.8798015218089902\n",
            "Itération 34 F = 0.879801521808916\n",
            "Itération 35 F = 0.8798015218088799\n",
            "Itération 36 F = 0.8798015218088614\n",
            "Itération 37 F = 0.8798015218088522\n",
            "Itération 38 F = 0.8798015218088471\n",
            "Itération 39 F = 0.8798015218088449\n",
            "Itération 40 F = 0.8798015218088434\n",
            "Itération 41 F = 0.8798015218088429\n",
            "\n",
            " \n",
            " temps d'éxécution: 1.243088 :secondes \n",
            " \n",
            "\n"
          ]
        },
        {
          "output_type": "display_data",
          "data": {
            "text/plain": [
              "<Figure size 640x480 with 1 Axes>"
            ],
            "image/png": "[encoded data removed]"
          },
          "metadata": {}
        }
      ]
    },
    {
      "cell_type": "markdown",
      "source": [
        "Le pas \"eta\", qui a joué ici un rôle majeur, a été choisi de telle sorte que le minimum soit atteint rapidement et efficacement. On constate que la méthode à pas fixe converge mieux que celle du système linéaire avec un **F = 0.879** qui est inférieur à **0.904** du sytème linéaire. En terme de temps d'exécution, l'algorithme de descente de gradient est plus lent que la recherche par résolution du système linéaire avec **1.2 s** pour la descente de gradient contre **8.1e-5 s** pour le système linéaire.\n",
        "\n",
        "Ainsi, une augmentation du nombre de variables pourrait engendrer plus de difficultés pour l'algorithme à converger efficacement vers le point minimal "
      ],
      "metadata": {
        "id": "KS5kdLt8mMJg"
      }
    },
    {
      "cell_type": "markdown",
      "source": [
        "# Exercice 3 "
      ],
      "metadata": {
        "id": "zMLXbgvZrZOX"
      }
    },
    {
      "cell_type": "markdown",
      "source": [
        "$$\\text{Descente de gradient à pas optimal}$$\n"
      ],
      "metadata": {
        "id": "GaOP4HqqICnW"
      }
    },
    {
      "cell_type": "markdown",
      "source": [
        "$\\mathrm \\rho = \\frac {|d|^2}{\\langle{Ad,d}\\rangle}$"
      ],
      "metadata": {
        "id": "yJRj9WwbNgXQ"
      }
    },
    {
      "cell_type": "markdown",
      "source": [
        "Initialisation"
      ],
      "metadata": {
        "id": "o5HSbh0mnnhT"
      }
    },
    {
      "cell_type": "code",
      "source": [
        "X = np.concatenate((np.ones((n, 1)), np.random.normal(0, 1, size=(n, p))), \n",
        "                   axis=1)\n",
        "\n",
        "A = X.T.dot(X)\n",
        "\n",
        "th = np.random.randn(1001,1)\n",
        "\n",
        "e = np.random.normal(0,1, size = (n, 1))\n",
        "\n",
        "Y = np.dot(X, th) + e \n",
        "\n",
        "F = J_th(X,th,Y,n)"
      ],
      "metadata": {
        "id": "-Lkb878LnmoS"
      },
      "execution_count": 347,
      "outputs": []
    },
    {
      "cell_type": "markdown",
      "source": [
        "$$\\textit{Mise en oeuvre de l'algotihme}$$"
      ],
      "metadata": {
        "id": "4j8ow20Eiro_"
      }
    },
    {
      "cell_type": "code",
      "source": [
        "debut = dt.datetime.now()\n",
        "\n",
        "\n",
        "# Le nombre maximal d'itérations à effectuer\n",
        "num_iterations = 100\n",
        "\n",
        "# La précision à atteindre\n",
        "tolerance = 0.01\n",
        "\n",
        "# La descente de gradient avec un pas optimal\n",
        "for iteration in range(2,num_iterations):\n",
        "\n",
        "    # Gradient de la fonction au point actuel\n",
        "    d = grad_J(X,th,Y)\n",
        "    eta = (d**2).sum()/(d.T.dot(A.T).dot(d)) # Calcul du pas \n",
        "    \n",
        "    if np.abs(d).sum() < tolerance:\n",
        "      break\n",
        "    else:\n",
        "      th = th - (eta*d) # Mise à jour de theta\n",
        "      F = J_th(X,th,Y,n) # Minimisation de la fonctionnelle quadratique\n",
        "      plt.plot(iteration, F,'b.', label = 'F')\n",
        "      plt.title(\"Evolution de la fonctionelle quadratique\")\n",
        "    \n",
        "    # Le point actuel et la valeur de la fonction au point actuel\n",
        "    print(f\"Itération {iteration} F= {F}\")\n",
        "\n",
        "\n",
        "fin = dt.datetime.now()\n",
        "\n",
        "temps = (fin -debut).total_seconds() \n",
        "\n",
        "print(f\"\\n \\n  temps d'exécution: {temps} secondes  \\n \\n \")"
      ],
      "metadata": {
        "id": "kFEu2dJDQds_",
        "colab": {
          "base_uri": "https://localhost:8080/",
          "height": 965
        },
        "outputId": "6e630c20-680f-4182-df76-32520fdeae2c"
      },
      "execution_count": 348,
      "outputs": [
        {
          "output_type": "stream",
          "name": "stdout",
          "text": [
            "Itération 2 F= 0.8949797261850164\n",
            "Itération 3 F= 0.8880336139947674\n",
            "Itération 4 F= 0.8868753497894988\n",
            "Itération 5 F= 0.8866346549748189\n",
            "Itération 6 F= 0.8865787717274234\n",
            "Itération 7 F= 0.8865649053695328\n",
            "Itération 8 F= 0.8865613084125471\n",
            "Itération 9 F= 0.8865603444881953\n",
            "Itération 10 F= 0.8865600796147861\n",
            "Itération 11 F= 0.8865600053475624\n",
            "Itération 12 F= 0.886559984177034\n",
            "Itération 13 F= 0.8865599780582776\n",
            "Itération 14 F= 0.8865599762692103\n",
            "Itération 15 F= 0.8865599757409307\n",
            "Itération 16 F= 0.8865599755836292\n",
            "Itération 17 F= 0.8865599755364539\n",
            "Itération 18 F= 0.8865599755222191\n",
            "Itération 19 F= 0.8865599755178999\n",
            "Itération 20 F= 0.886559975516584\n",
            "Itération 21 F= 0.8865599755161809\n",
            "Itération 22 F= 0.8865599755160573\n",
            "Itération 23 F= 0.8865599755160196\n",
            "Itération 24 F= 0.8865599755160082\n",
            "Itération 25 F= 0.8865599755160041\n",
            "\n",
            " \n",
            "  temps d'exécution: 0.655657 secondes  \n",
            " \n",
            " \n"
          ]
        },
        {
          "output_type": "display_data",
          "data": {
            "text/plain": [
              "<Figure size 640x480 with 1 Axes>"
            ],
            "image/png": "[encoded data removed]"
          },
          "metadata": {}
        }
      ]
    },
    {
      "cell_type": "markdown",
      "source": [
        "Le pas \"eta\" a été défini de telle sorte que le minimum soit atteint de façon optimale. On constate que la méthode à pas optimal converge mieux que celle du système linéaire avec un **F = 0.886** qui est inférieur à **0.904** du système liéaire. En terme de temps d'exécution, l'algorithme de descente de gradient à pas optimal est plus lent que la recherche par résolution du système linéaire avec **0.6 s** pour la descente de gradient contre **8.1e-5 s** pour le système linéaire.\n"
      ],
      "metadata": {
        "id": "eU0oHntFld68"
      }
    }
  ],
  "metadata": {
    "colab": {
      "provenance": [],
      "authorship_tag": "ABX9TyNdqXQ+THSxZg1qQJBVfyUE",
      "include_colab_link": true
    },
    "kernelspec": {
      "display_name": "Python 3",
      "name": "python3"
    },
    "language_info": {
      "name": "python"
    },
    "accelerator": "TPU",
    "gpuClass": "standard"
  },
  "nbformat": 4,
  "nbformat_minor": 0
}