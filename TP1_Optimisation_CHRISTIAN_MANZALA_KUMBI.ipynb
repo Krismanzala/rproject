{
  "nbformat": 4,
  "nbformat_minor": 0,
  "metadata": {
    "colab": {
      "provenance": [],
      "mount_file_id": "1RRWIaZ34thKOU7wfrZ6HMbTUaYv3DgdT",
      "authorship_tag": "ABX9TyPRk8m/YUos2O6L33hD8T5Y",
      "include_colab_link": true
    },
    "kernelspec": {
      "name": "python3",
      "display_name": "Python 3"
    },
    "language_info": {
      "name": "python"
    },
    "accelerator": "TPU",
    "gpuClass": "standard"
  },
  "cells": [
    {
      "cell_type": "markdown",
      "metadata": {
        "id": "view-in-github",
        "colab_type": "text"
      },
      "source": [
        "<a href=\"https://colab.research.google.com/github/chrismanzala/rproject/blob/Python-development/TP1_Optimisation_CHRISTIAN_MANZALA_KUMBI.ipynb\" target=\"_parent\"><img src=\"https://colab.research.google.com/assets/colab-badge.svg\" alt=\"Open In Colab\"/></a>"
      ]
    },
    {
      "cell_type": "markdown",
      "source": [
        "# $$\\textbf{Régressions}$$"
      ],
      "metadata": {
        "id": "2MTiX4eDMgoI"
      }
    },
    {
      "cell_type": "markdown",
      "source": [
        "### $$\\textit{Régression linéaire}$$ "
      ],
      "metadata": {
        "id": "1CGALEnNMfQe"
      }
    },
    {
      "cell_type": "code",
      "source": [
        "# Importation des modules et packages\n",
        "import numpy as np\n",
        "import pandas as pd \n",
        "import sklearn as sk\n",
        "import tensorflow as tf\n",
        "from tensorflow import keras"
      ],
      "metadata": {
        "id": "oTB5B4cmMwiL"
      },
      "execution_count": 28,
      "outputs": []
    },
    {
      "cell_type": "code",
      "source": [
        "pros = pd.read_csv(\n",
        "    \"https://raw.githubusercontent.com/selva86/datasets/master/prostate.csv\", \n",
        "    delimiter = \",\")"
      ],
      "metadata": {
        "id": "ETA5bDWGPJvy"
      },
      "execution_count": 2,
      "outputs": []
    },
    {
      "cell_type": "code",
      "source": [
        "pd.DataFrame(pros)\n",
        "\n",
        "pros.head(3)"
      ],
      "metadata": {
        "colab": {
          "base_uri": "https://localhost:8080/",
          "height": 143
        },
        "id": "1ITVa-PuSg4T",
        "outputId": "98485024-3dde-457a-9189-1d7c7f98be2b"
      },
      "execution_count": 3,
      "outputs": [
        {
          "output_type": "execute_result",
          "data": {
            "text/plain": [
              "     lcavol   lweight  age      lbph  svi       lcp  gleason  pgg45      lpsa\n",
              "0 -0.579818  2.769459   50 -1.386294    0 -1.386294        6      0 -0.430783\n",
              "1 -0.994252  3.319626   58 -1.386294    0 -1.386294        6      0 -0.162519\n",
              "2 -0.510826  2.691243   74 -1.386294    0 -1.386294        7     20 -0.162519"
            ],
            "text/html": [
              "\n",
              "  <div id=\"df-3061fd7f-d4b0-4803-9a1e-6e0c61474b76\">\n",
              "    <div class=\"colab-df-container\">\n",
              "      <div>\n",
              "<style scoped>\n",
              "    .dataframe tbody tr th:only-of-type {\n",
              "        vertical-align: middle;\n",
              "    }\n",
              "\n",
              "    .dataframe tbody tr th {\n",
              "        vertical-align: top;\n",
              "    }\n",
              "\n",
              "    .dataframe thead th {\n",
              "        text-align: right;\n",
              "    }\n",
              "</style>\n",
              "<table border=\"1\" class=\"dataframe\">\n",
              "  <thead>\n",
              "    <tr style=\"text-align: right;\">\n",
              "      <th></th>\n",
              "      <th>lcavol</th>\n",
              "      <th>lweight</th>\n",
              "      <th>age</th>\n",
              "      <th>lbph</th>\n",
              "      <th>svi</th>\n",
              "      <th>lcp</th>\n",
              "      <th>gleason</th>\n",
              "      <th>pgg45</th>\n",
              "      <th>lpsa</th>\n",
              "    </tr>\n",
              "  </thead>\n",
              "  <tbody>\n",
              "    <tr>\n",
              "      <th>0</th>\n",
              "      <td>-0.579818</td>\n",
              "      <td>2.769459</td>\n",
              "      <td>50</td>\n",
              "      <td>-1.386294</td>\n",
              "      <td>0</td>\n",
              "      <td>-1.386294</td>\n",
              "      <td>6</td>\n",
              "      <td>0</td>\n",
              "      <td>-0.430783</td>\n",
              "    </tr>\n",
              "    <tr>\n",
              "      <th>1</th>\n",
              "      <td>-0.994252</td>\n",
              "      <td>3.319626</td>\n",
              "      <td>58</td>\n",
              "      <td>-1.386294</td>\n",
              "      <td>0</td>\n",
              "      <td>-1.386294</td>\n",
              "      <td>6</td>\n",
              "      <td>0</td>\n",
              "      <td>-0.162519</td>\n",
              "    </tr>\n",
              "    <tr>\n",
              "      <th>2</th>\n",
              "      <td>-0.510826</td>\n",
              "      <td>2.691243</td>\n",
              "      <td>74</td>\n",
              "      <td>-1.386294</td>\n",
              "      <td>0</td>\n",
              "      <td>-1.386294</td>\n",
              "      <td>7</td>\n",
              "      <td>20</td>\n",
              "      <td>-0.162519</td>\n",
              "    </tr>\n",
              "  </tbody>\n",
              "</table>\n",
              "</div>\n",
              "      <button class=\"colab-df-convert\" onclick=\"convertToInteractive('df-3061fd7f-d4b0-4803-9a1e-6e0c61474b76')\"\n",
              "              title=\"Convert this dataframe to an interactive table.\"\n",
              "              style=\"display:none;\">\n",
              "        \n",
              "  <svg xmlns=\"http://www.w3.org/2000/svg\" height=\"24px\"viewBox=\"0 0 24 24\"\n",
              "       width=\"24px\">\n",
              "    <path d=\"M0 0h24v24H0V0z\" fill=\"none\"/>\n",
              "    <path d=\"M18.56 5.44l.94 2.06.94-2.06 2.06-.94-2.06-.94-.94-2.06-.94 2.06-2.06.94zm-11 1L8.5 8.5l.94-2.06 2.06-.94-2.06-.94L8.5 2.5l-.94 2.06-2.06.94zm10 10l.94 2.06.94-2.06 2.06-.94-2.06-.94-.94-2.06-.94 2.06-2.06.94z\"/><path d=\"M17.41 7.96l-1.37-1.37c-.4-.4-.92-.59-1.43-.59-.52 0-1.04.2-1.43.59L10.3 9.45l-7.72 7.72c-.78.78-.78 2.05 0 2.83L4 21.41c.39.39.9.59 1.41.59.51 0 1.02-.2 1.41-.59l7.78-7.78 2.81-2.81c.8-.78.8-2.07 0-2.86zM5.41 20L4 18.59l7.72-7.72 1.47 1.35L5.41 20z\"/>\n",
              "  </svg>\n",
              "      </button>\n",
              "      \n",
              "  <style>\n",
              "    .colab-df-container {\n",
              "      display:flex;\n",
              "      flex-wrap:wrap;\n",
              "      gap: 12px;\n",
              "    }\n",
              "\n",
              "    .colab-df-convert {\n",
              "      background-color: #E8F0FE;\n",
              "      border: none;\n",
              "      border-radius: 50%;\n",
              "      cursor: pointer;\n",
              "      display: none;\n",
              "      fill: #1967D2;\n",
              "      height: 32px;\n",
              "      padding: 0 0 0 0;\n",
              "      width: 32px;\n",
              "    }\n",
              "\n",
              "    .colab-df-convert:hover {\n",
              "      background-color: #E2EBFA;\n",
              "      box-shadow: 0px 1px 2px rgba(60, 64, 67, 0.3), 0px 1px 3px 1px rgba(60, 64, 67, 0.15);\n",
              "      fill: #174EA6;\n",
              "    }\n",
              "\n",
              "    [theme=dark] .colab-df-convert {\n",
              "      background-color: #3B4455;\n",
              "      fill: #D2E3FC;\n",
              "    }\n",
              "\n",
              "    [theme=dark] .colab-df-convert:hover {\n",
              "      background-color: #434B5C;\n",
              "      box-shadow: 0px 1px 3px 1px rgba(0, 0, 0, 0.15);\n",
              "      filter: drop-shadow(0px 1px 2px rgba(0, 0, 0, 0.3));\n",
              "      fill: #FFFFFF;\n",
              "    }\n",
              "  </style>\n",
              "\n",
              "      <script>\n",
              "        const buttonEl =\n",
              "          document.querySelector('#df-3061fd7f-d4b0-4803-9a1e-6e0c61474b76 button.colab-df-convert');\n",
              "        buttonEl.style.display =\n",
              "          google.colab.kernel.accessAllowed ? 'block' : 'none';\n",
              "\n",
              "        async function convertToInteractive(key) {\n",
              "          const element = document.querySelector('#df-3061fd7f-d4b0-4803-9a1e-6e0c61474b76');\n",
              "          const dataTable =\n",
              "            await google.colab.kernel.invokeFunction('convertToInteractive',\n",
              "                                                     [key], {});\n",
              "          if (!dataTable) return;\n",
              "\n",
              "          const docLinkHtml = 'Like what you see? Visit the ' +\n",
              "            '<a target=\"_blank\" href=https://colab.research.google.com/notebooks/data_table.ipynb>data table notebook</a>'\n",
              "            + ' to learn more about interactive tables.';\n",
              "          element.innerHTML = '';\n",
              "          dataTable['output_type'] = 'display_data';\n",
              "          await google.colab.output.renderOutput(dataTable, element);\n",
              "          const docLink = document.createElement('div');\n",
              "          docLink.innerHTML = docLinkHtml;\n",
              "          element.appendChild(docLink);\n",
              "        }\n",
              "      </script>\n",
              "    </div>\n",
              "  </div>\n",
              "  "
            ]
          },
          "metadata": {},
          "execution_count": 3
        }
      ]
    },
    {
      "cell_type": "code",
      "source": [
        "pros_lin = np.asarray(pros)\n",
        "print(pros_lin[0:3, :])"
      ],
      "metadata": {
        "colab": {
          "base_uri": "https://localhost:8080/",
          "height": 0
        },
        "id": "HEWibvDWSm76",
        "outputId": "c050baf5-e529-477b-f343-7cab6f68fee5"
      },
      "execution_count": 4,
      "outputs": [
        {
          "output_type": "stream",
          "name": "stdout",
          "text": [
            "[[-0.5798185   2.769459   50.         -1.38629436  0.         -1.38629436\n",
            "   6.          0.         -0.4307829 ]\n",
            " [-0.99425227  3.319626   58.         -1.38629436  0.         -1.38629436\n",
            "   6.          0.         -0.1625189 ]\n",
            " [-0.51082562  2.691243   74.         -1.38629436  0.         -1.38629436\n",
            "   7.         20.         -0.1625189 ]]\n"
          ]
        }
      ]
    },
    {
      "cell_type": "code",
      "source": [
        "pros_lin.shape"
      ],
      "metadata": {
        "colab": {
          "base_uri": "https://localhost:8080/",
          "height": 0
        },
        "id": "W1zKkehZS-nZ",
        "outputId": "6ee8b340-6d3d-4640-f273-7f0b6e8dc174"
      },
      "execution_count": 5,
      "outputs": [
        {
          "output_type": "execute_result",
          "data": {
            "text/plain": [
              "(97, 9)"
            ]
          },
          "metadata": {},
          "execution_count": 5
        }
      ]
    },
    {
      "cell_type": "code",
      "source": [
        "X_lin = pros_lin[:,0:8]\n",
        "y_lin = pros_lin[:,8]\n"
      ],
      "metadata": {
        "id": "fGWBALW4XhfL"
      },
      "execution_count": 6,
      "outputs": []
    },
    {
      "cell_type": "code",
      "source": [
        "#importation du module de la régression linéaire\n",
        "from sklearn.linear_model import LinearRegression \n",
        "\n",
        "model_lin = LinearRegression().fit(X_lin, y_lin) #régression linéaire\n",
        "\n",
        "model_lin.score(X_lin, y_lin) #Coefficient d'ajustement "
      ],
      "metadata": {
        "colab": {
          "base_uri": "https://localhost:8080/",
          "height": 0
        },
        "id": "ddiWIByEbjrl",
        "outputId": "00dfdcb9-809a-473c-b1c2-b45cc3c1bc0c"
      },
      "execution_count": 7,
      "outputs": [
        {
          "output_type": "execute_result",
          "data": {
            "text/plain": [
              "0.6633895652370272"
            ]
          },
          "metadata": {},
          "execution_count": 7
        }
      ]
    },
    {
      "cell_type": "code",
      "source": [
        "model_lin.intercept_ #ordonnée à l'origine"
      ],
      "metadata": {
        "colab": {
          "base_uri": "https://localhost:8080/",
          "height": 0
        },
        "id": "-Lku5DTOce5C",
        "outputId": "5902e8ef-c951-4ba3-813c-e23ccd3e11f1"
      },
      "execution_count": 8,
      "outputs": [
        {
          "output_type": "execute_result",
          "data": {
            "text/plain": [
              "0.1815608619872373"
            ]
          },
          "metadata": {},
          "execution_count": 8
        }
      ]
    },
    {
      "cell_type": "code",
      "source": [
        "model_lin.coef_ #estimations de paramètres"
      ],
      "metadata": {
        "colab": {
          "base_uri": "https://localhost:8080/",
          "height": 0
        },
        "id": "-wW_ULx3dw5h",
        "outputId": "e974c5b7-94f0-4cd0-c60f-a5104d07f0b1"
      },
      "execution_count": 9,
      "outputs": [
        {
          "output_type": "execute_result",
          "data": {
            "text/plain": [
              "array([ 0.56434128,  0.62201979, -0.02124818,  0.09671252,  0.7616734 ,\n",
              "       -0.10605094,  0.04922793,  0.00445751])"
            ]
          },
          "metadata": {},
          "execution_count": 9
        }
      ]
    },
    {
      "cell_type": "markdown",
      "source": [
        "### $$\\textit{Régression logistique}$$"
      ],
      "metadata": {
        "id": "KQzZXeTmgFSm"
      }
    },
    {
      "cell_type": "code",
      "source": [
        "leaf  = pd.read_csv(\"leafshape17.csv\", delimiter = \",\")\n",
        "\n",
        "leaf"
      ],
      "metadata": {
        "colab": {
          "base_uri": "https://localhost:8080/",
          "height": 423
        },
        "id": "BDJ1izZTfHOT",
        "outputId": "6d1f7235-7e82-498b-c696-680d3a0c4ca2"
      },
      "execution_count": 13,
      "outputs": [
        {
          "output_type": "execute_result",
          "data": {
            "text/plain": [
              "    Unnamed: 0   bladelen   petiole  bladewid  latitude    logwid    logpet  \\\n",
              "0          186   6.930000  0.449064      3.10      17.1  1.131402 -0.800590   \n",
              "1          187   7.270000  0.261720      2.50      17.1  0.916291 -1.340480   \n",
              "2          188   7.430000  0.766033      2.98      17.1  1.091923 -0.266530   \n",
              "3          189   8.000000  0.592800      3.06      17.1  1.118415 -0.522898   \n",
              "4          190   8.080000  0.492900      3.03      17.1  1.108563 -0.707449   \n",
              "..         ...        ...       ...       ...       ...       ...       ...   \n",
              "56         242  25.275000  3.634545      6.85      17.1  1.924249  1.290484   \n",
              "57         243  26.550000  2.635088      5.92      17.1  1.778336  0.968916   \n",
              "58         244  26.992500  3.835634      8.53      17.1  2.143589  1.344335   \n",
              "59         245  35.843333  3.799393      9.51      17.1  2.252344  1.334841   \n",
              "60         246  42.275000  1.494421     23.45      17.1  3.154870  0.401739   \n",
              "\n",
              "      loglen  arch  \n",
              "0   1.935860     0  \n",
              "1   1.983756     0  \n",
              "2   2.005526     0  \n",
              "3   2.079442     0  \n",
              "4   2.089392     0  \n",
              "..       ...   ...  \n",
              "56  3.229816     1  \n",
              "57  3.279030     1  \n",
              "58  3.295559     1  \n",
              "59  3.579158     1  \n",
              "60  3.744196     1  \n",
              "\n",
              "[61 rows x 9 columns]"
            ],
            "text/html": [
              "\n",
              "  <div id=\"df-c93b7419-2a86-4412-9890-8a934287fbea\">\n",
              "    <div class=\"colab-df-container\">\n",
              "      <div>\n",
              "<style scoped>\n",
              "    .dataframe tbody tr th:only-of-type {\n",
              "        vertical-align: middle;\n",
              "    }\n",
              "\n",
              "    .dataframe tbody tr th {\n",
              "        vertical-align: top;\n",
              "    }\n",
              "\n",
              "    .dataframe thead th {\n",
              "        text-align: right;\n",
              "    }\n",
              "</style>\n",
              "<table border=\"1\" class=\"dataframe\">\n",
              "  <thead>\n",
              "    <tr style=\"text-align: right;\">\n",
              "      <th></th>\n",
              "      <th>Unnamed: 0</th>\n",
              "      <th>bladelen</th>\n",
              "      <th>petiole</th>\n",
              "      <th>bladewid</th>\n",
              "      <th>latitude</th>\n",
              "      <th>logwid</th>\n",
              "      <th>logpet</th>\n",
              "      <th>loglen</th>\n",
              "      <th>arch</th>\n",
              "    </tr>\n",
              "  </thead>\n",
              "  <tbody>\n",
              "    <tr>\n",
              "      <th>0</th>\n",
              "      <td>186</td>\n",
              "      <td>6.930000</td>\n",
              "      <td>0.449064</td>\n",
              "      <td>3.10</td>\n",
              "      <td>17.1</td>\n",
              "      <td>1.131402</td>\n",
              "      <td>-0.800590</td>\n",
              "      <td>1.935860</td>\n",
              "      <td>0</td>\n",
              "    </tr>\n",
              "    <tr>\n",
              "      <th>1</th>\n",
              "      <td>187</td>\n",
              "      <td>7.270000</td>\n",
              "      <td>0.261720</td>\n",
              "      <td>2.50</td>\n",
              "      <td>17.1</td>\n",
              "      <td>0.916291</td>\n",
              "      <td>-1.340480</td>\n",
              "      <td>1.983756</td>\n",
              "      <td>0</td>\n",
              "    </tr>\n",
              "    <tr>\n",
              "      <th>2</th>\n",
              "      <td>188</td>\n",
              "      <td>7.430000</td>\n",
              "      <td>0.766033</td>\n",
              "      <td>2.98</td>\n",
              "      <td>17.1</td>\n",
              "      <td>1.091923</td>\n",
              "      <td>-0.266530</td>\n",
              "      <td>2.005526</td>\n",
              "      <td>0</td>\n",
              "    </tr>\n",
              "    <tr>\n",
              "      <th>3</th>\n",
              "      <td>189</td>\n",
              "      <td>8.000000</td>\n",
              "      <td>0.592800</td>\n",
              "      <td>3.06</td>\n",
              "      <td>17.1</td>\n",
              "      <td>1.118415</td>\n",
              "      <td>-0.522898</td>\n",
              "      <td>2.079442</td>\n",
              "      <td>0</td>\n",
              "    </tr>\n",
              "    <tr>\n",
              "      <th>4</th>\n",
              "      <td>190</td>\n",
              "      <td>8.080000</td>\n",
              "      <td>0.492900</td>\n",
              "      <td>3.03</td>\n",
              "      <td>17.1</td>\n",
              "      <td>1.108563</td>\n",
              "      <td>-0.707449</td>\n",
              "      <td>2.089392</td>\n",
              "      <td>0</td>\n",
              "    </tr>\n",
              "    <tr>\n",
              "      <th>...</th>\n",
              "      <td>...</td>\n",
              "      <td>...</td>\n",
              "      <td>...</td>\n",
              "      <td>...</td>\n",
              "      <td>...</td>\n",
              "      <td>...</td>\n",
              "      <td>...</td>\n",
              "      <td>...</td>\n",
              "      <td>...</td>\n",
              "    </tr>\n",
              "    <tr>\n",
              "      <th>56</th>\n",
              "      <td>242</td>\n",
              "      <td>25.275000</td>\n",
              "      <td>3.634545</td>\n",
              "      <td>6.85</td>\n",
              "      <td>17.1</td>\n",
              "      <td>1.924249</td>\n",
              "      <td>1.290484</td>\n",
              "      <td>3.229816</td>\n",
              "      <td>1</td>\n",
              "    </tr>\n",
              "    <tr>\n",
              "      <th>57</th>\n",
              "      <td>243</td>\n",
              "      <td>26.550000</td>\n",
              "      <td>2.635088</td>\n",
              "      <td>5.92</td>\n",
              "      <td>17.1</td>\n",
              "      <td>1.778336</td>\n",
              "      <td>0.968916</td>\n",
              "      <td>3.279030</td>\n",
              "      <td>1</td>\n",
              "    </tr>\n",
              "    <tr>\n",
              "      <th>58</th>\n",
              "      <td>244</td>\n",
              "      <td>26.992500</td>\n",
              "      <td>3.835634</td>\n",
              "      <td>8.53</td>\n",
              "      <td>17.1</td>\n",
              "      <td>2.143589</td>\n",
              "      <td>1.344335</td>\n",
              "      <td>3.295559</td>\n",
              "      <td>1</td>\n",
              "    </tr>\n",
              "    <tr>\n",
              "      <th>59</th>\n",
              "      <td>245</td>\n",
              "      <td>35.843333</td>\n",
              "      <td>3.799393</td>\n",
              "      <td>9.51</td>\n",
              "      <td>17.1</td>\n",
              "      <td>2.252344</td>\n",
              "      <td>1.334841</td>\n",
              "      <td>3.579158</td>\n",
              "      <td>1</td>\n",
              "    </tr>\n",
              "    <tr>\n",
              "      <th>60</th>\n",
              "      <td>246</td>\n",
              "      <td>42.275000</td>\n",
              "      <td>1.494421</td>\n",
              "      <td>23.45</td>\n",
              "      <td>17.1</td>\n",
              "      <td>3.154870</td>\n",
              "      <td>0.401739</td>\n",
              "      <td>3.744196</td>\n",
              "      <td>1</td>\n",
              "    </tr>\n",
              "  </tbody>\n",
              "</table>\n",
              "<p>61 rows × 9 columns</p>\n",
              "</div>\n",
              "      <button class=\"colab-df-convert\" onclick=\"convertToInteractive('df-c93b7419-2a86-4412-9890-8a934287fbea')\"\n",
              "              title=\"Convert this dataframe to an interactive table.\"\n",
              "              style=\"display:none;\">\n",
              "        \n",
              "  <svg xmlns=\"http://www.w3.org/2000/svg\" height=\"24px\"viewBox=\"0 0 24 24\"\n",
              "       width=\"24px\">\n",
              "    <path d=\"M0 0h24v24H0V0z\" fill=\"none\"/>\n",
              "    <path d=\"M18.56 5.44l.94 2.06.94-2.06 2.06-.94-2.06-.94-.94-2.06-.94 2.06-2.06.94zm-11 1L8.5 8.5l.94-2.06 2.06-.94-2.06-.94L8.5 2.5l-.94 2.06-2.06.94zm10 10l.94 2.06.94-2.06 2.06-.94-2.06-.94-.94-2.06-.94 2.06-2.06.94z\"/><path d=\"M17.41 7.96l-1.37-1.37c-.4-.4-.92-.59-1.43-.59-.52 0-1.04.2-1.43.59L10.3 9.45l-7.72 7.72c-.78.78-.78 2.05 0 2.83L4 21.41c.39.39.9.59 1.41.59.51 0 1.02-.2 1.41-.59l7.78-7.78 2.81-2.81c.8-.78.8-2.07 0-2.86zM5.41 20L4 18.59l7.72-7.72 1.47 1.35L5.41 20z\"/>\n",
              "  </svg>\n",
              "      </button>\n",
              "      \n",
              "  <style>\n",
              "    .colab-df-container {\n",
              "      display:flex;\n",
              "      flex-wrap:wrap;\n",
              "      gap: 12px;\n",
              "    }\n",
              "\n",
              "    .colab-df-convert {\n",
              "      background-color: #E8F0FE;\n",
              "      border: none;\n",
              "      border-radius: 50%;\n",
              "      cursor: pointer;\n",
              "      display: none;\n",
              "      fill: #1967D2;\n",
              "      height: 32px;\n",
              "      padding: 0 0 0 0;\n",
              "      width: 32px;\n",
              "    }\n",
              "\n",
              "    .colab-df-convert:hover {\n",
              "      background-color: #E2EBFA;\n",
              "      box-shadow: 0px 1px 2px rgba(60, 64, 67, 0.3), 0px 1px 3px 1px rgba(60, 64, 67, 0.15);\n",
              "      fill: #174EA6;\n",
              "    }\n",
              "\n",
              "    [theme=dark] .colab-df-convert {\n",
              "      background-color: #3B4455;\n",
              "      fill: #D2E3FC;\n",
              "    }\n",
              "\n",
              "    [theme=dark] .colab-df-convert:hover {\n",
              "      background-color: #434B5C;\n",
              "      box-shadow: 0px 1px 3px 1px rgba(0, 0, 0, 0.15);\n",
              "      filter: drop-shadow(0px 1px 2px rgba(0, 0, 0, 0.3));\n",
              "      fill: #FFFFFF;\n",
              "    }\n",
              "  </style>\n",
              "\n",
              "      <script>\n",
              "        const buttonEl =\n",
              "          document.querySelector('#df-c93b7419-2a86-4412-9890-8a934287fbea button.colab-df-convert');\n",
              "        buttonEl.style.display =\n",
              "          google.colab.kernel.accessAllowed ? 'block' : 'none';\n",
              "\n",
              "        async function convertToInteractive(key) {\n",
              "          const element = document.querySelector('#df-c93b7419-2a86-4412-9890-8a934287fbea');\n",
              "          const dataTable =\n",
              "            await google.colab.kernel.invokeFunction('convertToInteractive',\n",
              "                                                     [key], {});\n",
              "          if (!dataTable) return;\n",
              "\n",
              "          const docLinkHtml = 'Like what you see? Visit the ' +\n",
              "            '<a target=\"_blank\" href=https://colab.research.google.com/notebooks/data_table.ipynb>data table notebook</a>'\n",
              "            + ' to learn more about interactive tables.';\n",
              "          element.innerHTML = '';\n",
              "          dataTable['output_type'] = 'display_data';\n",
              "          await google.colab.output.renderOutput(dataTable, element);\n",
              "          const docLink = document.createElement('div');\n",
              "          docLink.innerHTML = docLinkHtml;\n",
              "          element.appendChild(docLink);\n",
              "        }\n",
              "      </script>\n",
              "    </div>\n",
              "  </div>\n",
              "  "
            ]
          },
          "metadata": {},
          "execution_count": 13
        }
      ]
    },
    {
      "cell_type": "code",
      "source": [
        "leaf_log = np.asarray(leaf)\n",
        "\n",
        "leaf_log[0:2,:]"
      ],
      "metadata": {
        "colab": {
          "base_uri": "https://localhost:8080/",
          "height": 0
        },
        "id": "uqq30zzlgm9c",
        "outputId": "aa34e6f1-e614-46e3-d485-2270d5fd72b0"
      },
      "execution_count": 14,
      "outputs": [
        {
          "output_type": "execute_result",
          "data": {
            "text/plain": [
              "array([[186.        ,   6.93      ,   0.449064  ,   3.1       ,\n",
              "         17.1       ,   1.13140211,  -0.80058986,   1.93585981,\n",
              "          0.        ],\n",
              "       [187.        ,   7.27      ,   0.26172   ,   2.5       ,\n",
              "         17.1       ,   0.91629073,  -1.34048005,   1.98375629,\n",
              "          0.        ]])"
            ]
          },
          "metadata": {},
          "execution_count": 14
        }
      ]
    },
    {
      "cell_type": "code",
      "source": [
        "leaf_log.shape"
      ],
      "metadata": {
        "colab": {
          "base_uri": "https://localhost:8080/",
          "height": 0
        },
        "id": "gL5gp-O6g0Oj",
        "outputId": "ae81ba24-6f67-4fc4-f705-206f8c679638"
      },
      "execution_count": 15,
      "outputs": [
        {
          "output_type": "execute_result",
          "data": {
            "text/plain": [
              "(61, 9)"
            ]
          },
          "metadata": {},
          "execution_count": 15
        }
      ]
    },
    {
      "cell_type": "code",
      "source": [
        "X_log = np.delete(leaf_log,[0,4,8], axis = 1)\n",
        "\n",
        "X_log[0:2,:]"
      ],
      "metadata": {
        "colab": {
          "base_uri": "https://localhost:8080/",
          "height": 0
        },
        "id": "nqOB-tTehL-T",
        "outputId": "72a65201-2c9c-444d-f956-3b0fa1917408"
      },
      "execution_count": 16,
      "outputs": [
        {
          "output_type": "execute_result",
          "data": {
            "text/plain": [
              "array([[ 6.93      ,  0.449064  ,  3.1       ,  1.13140211, -0.80058986,\n",
              "         1.93585981],\n",
              "       [ 7.27      ,  0.26172   ,  2.5       ,  0.91629073, -1.34048005,\n",
              "         1.98375629]])"
            ]
          },
          "metadata": {},
          "execution_count": 16
        }
      ]
    },
    {
      "cell_type": "code",
      "source": [
        "y_log = leaf_log[:, 8]"
      ],
      "metadata": {
        "id": "5oEMuyHKoXQU"
      },
      "execution_count": 17,
      "outputs": []
    },
    {
      "cell_type": "code",
      "source": [
        "#importation du module de la régression logistique\n",
        "from sklearn.linear_model import LogisticRegression \n",
        " \n",
        "model_log = LogisticRegression().fit(X_log,y_log) #régression logistique \n",
        "\n",
        "model_log.score(X_log, y_log) #Coefficient d'ajustement \n"
      ],
      "metadata": {
        "colab": {
          "base_uri": "https://localhost:8080/",
          "height": 0
        },
        "id": "Y2a4jGU8o2Lo",
        "outputId": "5c1d662f-19a8-4e64-8813-24283c3c8739"
      },
      "execution_count": 18,
      "outputs": [
        {
          "output_type": "execute_result",
          "data": {
            "text/plain": [
              "0.8852459016393442"
            ]
          },
          "metadata": {},
          "execution_count": 18
        }
      ]
    },
    {
      "cell_type": "code",
      "source": [
        "model_log.intercept_ #ordonnée à l'origine"
      ],
      "metadata": {
        "colab": {
          "base_uri": "https://localhost:8080/",
          "height": 0
        },
        "id": "je-1AKBwo9Ws",
        "outputId": "a742526e-9360-4b2f-e665-c9afad702122"
      },
      "execution_count": 19,
      "outputs": [
        {
          "output_type": "execute_result",
          "data": {
            "text/plain": [
              "array([-4.88833627])"
            ]
          },
          "metadata": {},
          "execution_count": 19
        }
      ]
    },
    {
      "cell_type": "code",
      "source": [
        "model_log.coef_ #estimations de paramètres"
      ],
      "metadata": {
        "colab": {
          "base_uri": "https://localhost:8080/",
          "height": 0
        },
        "id": "siEmVHKhpqZ4",
        "outputId": "df434b4d-6bb2-4964-c142-cb7c706288b1"
      },
      "execution_count": 20,
      "outputs": [
        {
          "output_type": "execute_result",
          "data": {
            "text/plain": [
              "array([[ 0.13269905,  1.29928396, -0.0677831 , -0.17083012,  0.70320759,\n",
              "         0.36588237]])"
            ]
          },
          "metadata": {},
          "execution_count": 20
        }
      ]
    },
    {
      "cell_type": "markdown",
      "source": [
        "# $$\\textbf{Introduction à Keras}$$"
      ],
      "metadata": {
        "id": "hfZDMLfZqtHR"
      }
    },
    {
      "cell_type": "code",
      "source": [
        "from keras.models import Sequential\n",
        "from keras.layers import Dense"
      ],
      "metadata": {
        "id": "lIJgWlyOpv3w"
      },
      "execution_count": 21,
      "outputs": []
    },
    {
      "cell_type": "code",
      "source": [
        "from keras.engine import sequential\n",
        "# Definition d'un réseau de neurones de type séquentiel\n",
        "perceptron = Sequential()\n",
        "#Défintion de sa couche cachée \n",
        "perceptron.add(Dense(units=1,  input_dim=8, activation=\"linear\"))\n"
      ],
      "metadata": {
        "id": "opHBicz7ssGd"
      },
      "execution_count": 22,
      "outputs": []
    },
    {
      "cell_type": "code",
      "source": [
        "from keras.optimizers import SGD\n",
        "\n",
        "sgd = SGD() # descente de gradient stochastique\n",
        "\n",
        "perceptron.compile(loss = \"mean_squared_error\", #critère des moindres carrés\n",
        "                   optimizer = SGD(0.0001),\n",
        "                    #descente de gradient avec taux d'apprentissage\n",
        "                   metrics = [\"accuracy\"] #métrique \"Précision\"\n",
        "                   )\n"
      ],
      "metadata": {
        "id": "BfT29jaCtii-"
      },
      "execution_count": 23,
      "outputs": []
    },
    {
      "cell_type": "code",
      "source": [
        "perceptron.summary() #structure du réseau défini"
      ],
      "metadata": {
        "colab": {
          "base_uri": "https://localhost:8080/",
          "height": 0
        },
        "id": "lqDNYrFIx4A5",
        "outputId": "4b52a283-59af-47af-c710-0b6d8bd9b711"
      },
      "execution_count": 24,
      "outputs": [
        {
          "output_type": "stream",
          "name": "stdout",
          "text": [
            "Model: \"sequential\"\n",
            "_________________________________________________________________\n",
            " Layer (type)                Output Shape              Param #   \n",
            "=================================================================\n",
            " dense (Dense)               (None, 1)                 9         \n",
            "                                                                 \n",
            "=================================================================\n",
            "Total params: 9\n",
            "Trainable params: 9\n",
            "Non-trainable params: 0\n",
            "_________________________________________________________________\n"
          ]
        }
      ]
    },
    {
      "cell_type": "code",
      "source": [
        "#apprentissage du réseau\n",
        "history = perceptron.fit(X_lin, y_lin, batch_size= 30, epochs = 10) "
      ],
      "metadata": {
        "colab": {
          "base_uri": "https://localhost:8080/",
          "height": 0
        },
        "id": "UsOreWCbyp2I",
        "outputId": "57eb8190-1f68-4dea-9c16-cd95dfa604b3"
      },
      "execution_count": 25,
      "outputs": [
        {
          "output_type": "stream",
          "name": "stdout",
          "text": [
            "Epoch 1/10\n",
            "4/4 [==============================] - 2s 11ms/step - loss: 18.0383 - accuracy: 0.0000e+00\n",
            "Epoch 2/10\n",
            "4/4 [==============================] - 0s 9ms/step - loss: 3.5528 - accuracy: 0.0000e+00\n",
            "Epoch 3/10\n",
            "4/4 [==============================] - 0s 35ms/step - loss: 3.0979 - accuracy: 0.0000e+00\n",
            "Epoch 4/10\n",
            "4/4 [==============================] - 0s 14ms/step - loss: 3.3923 - accuracy: 0.0000e+00\n",
            "Epoch 5/10\n",
            "4/4 [==============================] - 0s 14ms/step - loss: 2.8120 - accuracy: 0.0000e+00\n",
            "Epoch 6/10\n",
            "4/4 [==============================] - 0s 11ms/step - loss: 2.8627 - accuracy: 0.0000e+00\n",
            "Epoch 7/10\n",
            "4/4 [==============================] - 0s 11ms/step - loss: 2.8502 - accuracy: 0.0000e+00\n",
            "Epoch 8/10\n",
            "4/4 [==============================] - 0s 19ms/step - loss: 2.8602 - accuracy: 0.0000e+00\n",
            "Epoch 9/10\n",
            "4/4 [==============================] - 0s 19ms/step - loss: 2.6960 - accuracy: 0.0000e+00\n",
            "Epoch 10/10\n",
            "4/4 [==============================] - 0s 13ms/step - loss: 2.9214 - accuracy: 0.0000e+00\n"
          ]
        }
      ]
    },
    {
      "cell_type": "markdown",
      "source": [
        "la précision (accuracy) à la 10ème itération reste à  0 car il n'y a pas assez de données en entrée pour favoriser l'apprentissage à partir de notre modèle.\n",
        "\n",
        "\n"
      ],
      "metadata": {
        "id": "7ijnBIOj49z9"
      }
    },
    {
      "cell_type": "code",
      "source": [
        "perceptron.get_weights() #affichage des poids estimés(paramètres du modèle)"
      ],
      "metadata": {
        "colab": {
          "base_uri": "https://localhost:8080/",
          "height": 0
        },
        "id": "azugt5NDzmVa",
        "outputId": "f086dd2a-8ea2-42d9-fa0a-7bf3b7a89788"
      },
      "execution_count": 27,
      "outputs": [
        {
          "output_type": "execute_result",
          "data": {
            "text/plain": [
              "[array([[ 0.78079456],\n",
              "        [-0.1334844 ],\n",
              "        [ 0.09019651],\n",
              "        [ 0.60828984],\n",
              "        [-0.6444202 ],\n",
              "        [ 0.78979385],\n",
              "        [-0.6735001 ],\n",
              "        [-0.0160362 ]], dtype=float32),\n",
              " array([-0.00107876], dtype=float32)]"
            ]
          },
          "metadata": {},
          "execution_count": 27
        }
      ]
    }
  ]
}